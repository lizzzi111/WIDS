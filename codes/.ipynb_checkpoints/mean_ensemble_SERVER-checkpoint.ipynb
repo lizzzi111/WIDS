{
 "cells": [
  {
   "cell_type": "code",
   "execution_count": 548,
   "metadata": {},
   "outputs": [],
   "source": [
    "pd.options.display.max_rows    = 999\n",
    "pd.options.display.max_columns = 999"
   ]
  },
  {
   "cell_type": "code",
   "execution_count": 549,
   "metadata": {},
   "outputs": [],
   "source": [
    "from sklearn.preprocessing import LabelEncoder\n",
    "def label_encoding(df_train, df_valid, df_test):\n",
    "    \n",
    "    factors = df_train.select_dtypes('object').columns\n",
    "    \n",
    "    lbl = LabelEncoder()\n",
    "\n",
    "    for f in factors:        \n",
    "        lbl.fit(list(df_train[f].values) + list(df_valid[f].values) + list(df_test[f].values))\n",
    "        df_train[f] = lbl.transform(list(df_train[f].values))\n",
    "        df_valid[f] = lbl.transform(list(df_valid[f].values))\n",
    "        df_test[f]  = lbl.transform(list(df_test[f].values))\n",
    "\n",
    "    return df_train, df_valid, df_test"
   ]
  },
  {
   "cell_type": "code",
   "execution_count": 550,
   "metadata": {
    "colab": {},
    "colab_type": "code",
    "id": "pYo4I2OYu8vT"
   },
   "outputs": [],
   "source": [
    "import pandas as pd\n",
    "import os\n",
    "from sklearn.model_selection import KFold, StratifiedKFold, GroupKFold\n",
    "from sklearn.linear_model import LogisticRegression\n",
    "import numpy as np\n",
    "import time\n",
    "from sklearn.metrics import log_loss, roc_auc_score, confusion_matrix"
   ]
  },
  {
   "cell_type": "code",
   "execution_count": 551,
   "metadata": {
    "colab": {
     "base_uri": "https://localhost:8080/",
     "height": 595
    },
    "colab_type": "code",
    "executionInfo": {
     "elapsed": 4021,
     "status": "ok",
     "timestamp": 1579707378581,
     "user": {
      "displayName": "Elizaveta",
      "photoUrl": "https://lh3.googleusercontent.com/a-/AAuE7mCeI0QdxlRLcqMztd5HySSXx9D_ct4tg31n5g9W=s64",
      "userId": "01253993997636551956"
     },
     "user_tz": -60
    },
    "id": "38P3R-KovTM7",
    "outputId": "546571b9-2d9c-4c46-9a7c-ed8a627aa1c3"
   },
   "outputs": [],
   "source": [
    "files = sorted(os.listdir(\"../oof_preds\"))\n",
    "files.remove('.ipynb_checkpoints')"
   ]
  },
  {
   "cell_type": "code",
   "execution_count": 552,
   "metadata": {},
   "outputs": [
    {
     "data": {
      "text/plain": [
       "['09072.csv',\n",
       " '4_times17_53_48_44_43_9074.csv',\n",
       " '4_times17_53_48_9068.csv',\n",
       " 'lgb_v11_90707.csv',\n",
       " 'lgb_v12_90622.csv',\n",
       " 'lgb_v14_90605.csv',\n",
       " 'lgb_v15_90624.csv',\n",
       " 'lgb_v17_90519.csv',\n",
       " 'lgb_v18_90494.csv',\n",
       " 'lgb_v1_90545.csv',\n",
       " 'lgb_v20_90522.csv',\n",
       " 'lgb_v21_90535.csv',\n",
       " 'lgb_v22_90501.csv',\n",
       " 'lgb_v23_90548.csv',\n",
       " 'lgb_v24_90467.csv',\n",
       " 'lgb_v26_90633.csv',\n",
       " 'lgb_v28_90684.csv',\n",
       " 'lgb_v29_90658.csv',\n",
       " 'lgb_v30_90492.csv',\n",
       " 'lgb_v32_90494.csv',\n",
       " 'lgb_v33_90234.csv',\n",
       " 'lgb_v34_90561.csv',\n",
       " 'lgb_v35_90553.csv',\n",
       " 'lgb_v36_90560.csv',\n",
       " 'lgb_v37_90526.csv',\n",
       " 'lgb_v38_90545.csv',\n",
       " 'lgb_v3_90547.csv',\n",
       " 'lgb_v40_90501.csv',\n",
       " 'lgb_v41_90534.csv',\n",
       " 'lgb_v42_90540.csv',\n",
       " 'lgb_v43_90603.csv',\n",
       " 'lgb_v44_90592.csv',\n",
       " 'lgb_v45_90523.csv',\n",
       " 'lgb_v46_90349.csv',\n",
       " 'lgb_v47_90384.csv',\n",
       " 'lgb_v48_seed111_90581.csv',\n",
       " 'lgb_v49_seed111_90541.csv',\n",
       " 'lgb_v49_seed111_90570.csv',\n",
       " 'lgb_v4_90630.csv',\n",
       " 'lgb_v50_seed111_90566.csv',\n",
       " 'lgb_v51_seed111_90558.csv',\n",
       " 'lgb_v52_seed111_90564.csv',\n",
       " 'lgb_v53_seed111_90566.csv',\n",
       " 'lgb_v54_seed111_90527.csv',\n",
       " 'lgb_v55_seed111_90543.csv',\n",
       " 'lgb_v56_seed111_90511.csv',\n",
       " 'lgb_v57_seed111_90566.csv',\n",
       " 'lgb_v58_seed111_90590.csv',\n",
       " 'lgb_v59_seed111_90477.csv',\n",
       " 'lgb_v5_90389.csv',\n",
       " 'lgb_v61_seed111_90493.csv',\n",
       " 'lgb_v62_seed111_90498.csv',\n",
       " 'lgb_v63_seed111_90536.csv',\n",
       " 'lgb_v64_seed111_90412.csv',\n",
       " 'lgb_v65_seed111_90523.csv',\n",
       " 'lgb_v66_seed111_90551.csv',\n",
       " 'lgb_v67_seed111_90574.csv',\n",
       " 'lgb_v68_seed111_90492.csv',\n",
       " 'lgb_v69_seed111_90436.csv',\n",
       " 'lgb_v6_90427.csv',\n",
       " 'lgb_v70_seed111_90519.csv',\n",
       " 'lgb_v71_seed111_90615.csv',\n",
       " 'lgb_v72_seed111_90508.csv',\n",
       " 'lgb_v73_seed111_90648.csv',\n",
       " 'lgb_v74_seed111_90610.csv',\n",
       " 'lgb_v75_seed111_90621.csv',\n",
       " 'lgb_v76_seed111_90562.csv',\n",
       " 'lgb_v77_seed111_90644.csv',\n",
       " 'lgb_v78_seed111_90593.csv',\n",
       " 'lgb_v78_seed111_90626.csv',\n",
       " 'lgb_v79_seed111_90713.csv',\n",
       " 'lgb_v79_seed159_90623.csv',\n",
       " 'lgb_v7_90271.csv',\n",
       " 'lgb_v80_seed111_90642.csv',\n",
       " 'lgb_v81_seed111_90499.csv',\n",
       " 'lgb_v82_seed111_90644.csv',\n",
       " 'lgb_v83_seed111_90632.csv',\n",
       " 'lgb_v84_seed111_90668.csv',\n",
       " 'lgb_v85_seed111_90673.csv',\n",
       " 'lgb_v86_seed111_90656.csv',\n",
       " 'lgb_v87_seed111_90627.csv',\n",
       " 'lgb_v88_seed111_90641.csv',\n",
       " 'lgb_v89_seed111_90669.csv',\n",
       " 'lgb_v8_90614.csv',\n",
       " 'lgb_v90_seed111_90629.csv',\n",
       " 'lgb_v90_seed111_90669.csv',\n",
       " 'lgb_v91_seed111_90684.csv',\n",
       " 'lgb_v92_seed111_90701.csv',\n",
       " 'lgb_v9_90627.csv',\n",
       " 'mean_10_90809.csv',\n",
       " 'mean_16_90841.csv',\n",
       " 'mean_3_90769.csv',\n",
       " 'mean_3_90836.csv',\n",
       " 'mean_4_90799.csv',\n",
       " 'mean_5_90826.csv',\n",
       " 'mean_5_90834.csv',\n",
       " 'mean_5_90837.csv',\n",
       " 'mean_6_90808.csv',\n",
       " 'mean_6_90836.csv',\n",
       " 'mean_6_90837.csv',\n",
       " 'mean_6_90839.csv',\n",
       " 'mean_6_90843.csv',\n",
       " 'mean_7_90808.csv',\n",
       " 'mean_8_90795.csv',\n",
       " 'mean_8_90813.csv',\n",
       " 'mean_8_90817.csv',\n",
       " 'mean_8_90826.csv',\n",
       " 'mean_8_90840.csv',\n",
       " 'stack_lasso_10_90817.csv',\n",
       " 'stack_lasso_4_90754.csv',\n",
       " 'stack_lgb16_89283.csv',\n",
       " 'stack_ridge_10_90795.csv',\n",
       " 'stack_ridge_15_90658.csv',\n",
       " 'stack_ridge_19_90843.csv',\n",
       " 'stack_ridge_2_90663.csv',\n",
       " 'stack_ridge_3_90717.csv',\n",
       " 'stack_ridge_5_90697.csv',\n",
       " 'stack_ridge_6_90713.csv',\n",
       " 'v17_v59_v56_9068.csv']"
      ]
     },
     "execution_count": 552,
     "metadata": {},
     "output_type": "execute_result"
    }
   ],
   "source": [
    "files"
   ]
  },
  {
   "cell_type": "code",
   "execution_count": 553,
   "metadata": {},
   "outputs": [],
   "source": [
    "files = ['09072.csv','lgb_v17_90519.csv','lgb_v73_seed111_90648.csv',\n",
    "'lgb_v80_seed111_90642.csv','lgb_v84_seed111_90668.csv','lgb_v92_seed111_90701.csv',]"
   ]
  },
  {
   "cell_type": "code",
   "execution_count": 554,
   "metadata": {},
   "outputs": [
    {
     "name": "stderr",
     "output_type": "stream",
     "text": [
      "/home/RDC/zinovyee.hub/.conda/envs/wids/lib/python3.8/site-packages/IPython/core/interactiveshell.py:3050: DtypeWarning: Columns (7,8,10,11,13,14,184,185) have mixed types.Specify dtype option on import or set low_memory=False.\n",
      "  has_raised = await self.run_ast_nodes(code_ast.body, cell_name,\n"
     ]
    },
    {
     "data": {
      "text/plain": [
       "(91713, 186)"
      ]
     },
     "execution_count": 554,
     "metadata": {},
     "output_type": "execute_result"
    }
   ],
   "source": [
    "train_ = pd.read_csv('../raw/training.csv')\n",
    "train_ = train_[-train_['hospital_death'].isnull()]\n",
    "train_.shape"
   ]
  },
  {
   "cell_type": "code",
   "execution_count": 555,
   "metadata": {},
   "outputs": [],
   "source": [
    "train = pd.DataFrame( columns=files)\n",
    "test  = pd.DataFrame( columns=files)"
   ]
  },
  {
   "cell_type": "code",
   "execution_count": 556,
   "metadata": {},
   "outputs": [],
   "source": [
    "y = train_['hospital_death']"
   ]
  },
  {
   "cell_type": "code",
   "execution_count": 557,
   "metadata": {},
   "outputs": [],
   "source": [
    "for i, file in enumerate(files):\n",
    "    predictions = pd.read_csv(f'../oof_preds/{file}')\n",
    "    if file == files[0]:\n",
    "        train['encounter_id'] = predictions['encounter_id']\n",
    "    train[file] = predictions['hospital_death']"
   ]
  },
  {
   "cell_type": "code",
   "execution_count": 558,
   "metadata": {},
   "outputs": [],
   "source": [
    "for i, file in enumerate(files):\n",
    "    predictions = pd.read_csv(f'../submissions/{file}')\n",
    "    if file == files[0]:\n",
    "        test['encounter_id'] = predictions['encounter_id']\n",
    "    test[file] = predictions['hospital_death']"
   ]
  },
  {
   "cell_type": "code",
   "execution_count": 559,
   "metadata": {},
   "outputs": [],
   "source": [
    "excluded_feats = ['encounter_id']\n",
    "features = [f for f in train.columns if f not in excluded_feats]"
   ]
  },
  {
   "cell_type": "markdown",
   "metadata": {},
   "source": [
    "### STACKING"
   ]
  },
  {
   "cell_type": "code",
   "execution_count": 560,
   "metadata": {},
   "outputs": [],
   "source": [
    "oof_preds = train[features].mean(axis=1)\n",
    "preds_test = test[features].mean(axis=1).values"
   ]
  },
  {
   "cell_type": "code",
   "execution_count": 561,
   "metadata": {},
   "outputs": [],
   "source": [
    "from scipy.stats import pearsonr"
   ]
  },
  {
   "cell_type": "code",
   "execution_count": 562,
   "metadata": {},
   "outputs": [
    {
     "data": {
      "text/plain": [
       "(0.9927119709406216, 0.0)"
      ]
     },
     "execution_count": 562,
     "metadata": {},
     "output_type": "execute_result"
    }
   ],
   "source": [
    "pearsonr(preds_test, test['lgb_v17_90519.csv'])"
   ]
  },
  {
   "cell_type": "code",
   "execution_count": 563,
   "metadata": {},
   "outputs": [
    {
     "data": {
      "text/plain": [
       "(0.9881105659714902, 0.0)"
      ]
     },
     "execution_count": 563,
     "metadata": {},
     "output_type": "execute_result"
    }
   ],
   "source": [
    "pearsonr(oof_preds, train['lgb_v17_90519.csv'])"
   ]
  },
  {
   "cell_type": "code",
   "execution_count": 564,
   "metadata": {},
   "outputs": [
    {
     "data": {
      "text/html": [
       "<div>\n",
       "<style scoped>\n",
       "    .dataframe tbody tr th:only-of-type {\n",
       "        vertical-align: middle;\n",
       "    }\n",
       "\n",
       "    .dataframe tbody tr th {\n",
       "        vertical-align: top;\n",
       "    }\n",
       "\n",
       "    .dataframe thead th {\n",
       "        text-align: right;\n",
       "    }\n",
       "</style>\n",
       "<table border=\"1\" class=\"dataframe\">\n",
       "  <thead>\n",
       "    <tr style=\"text-align: right;\">\n",
       "      <th></th>\n",
       "      <th>encounter_id</th>\n",
       "      <th>hospital_death</th>\n",
       "    </tr>\n",
       "  </thead>\n",
       "  <tbody>\n",
       "    <tr>\n",
       "      <th>0</th>\n",
       "      <td>66154</td>\n",
       "      <td>0.086371</td>\n",
       "    </tr>\n",
       "    <tr>\n",
       "      <th>1</th>\n",
       "      <td>114252</td>\n",
       "      <td>0.552521</td>\n",
       "    </tr>\n",
       "    <tr>\n",
       "      <th>2</th>\n",
       "      <td>119783</td>\n",
       "      <td>0.000991</td>\n",
       "    </tr>\n",
       "    <tr>\n",
       "      <th>3</th>\n",
       "      <td>79267</td>\n",
       "      <td>0.040329</td>\n",
       "    </tr>\n",
       "    <tr>\n",
       "      <th>4</th>\n",
       "      <td>92056</td>\n",
       "      <td>0.008799</td>\n",
       "    </tr>\n",
       "  </tbody>\n",
       "</table>\n",
       "</div>"
      ],
      "text/plain": [
       "   encounter_id  hospital_death\n",
       "0         66154        0.086371\n",
       "1        114252        0.552521\n",
       "2        119783        0.000991\n",
       "3         79267        0.040329\n",
       "4         92056        0.008799"
      ]
     },
     "execution_count": 564,
     "metadata": {},
     "output_type": "execute_result"
    }
   ],
   "source": [
    "oof = pd.DataFrame({'encounter_id': train['encounter_id'], 'hospital_death': oof_preds})\n",
    "oof.head()"
   ]
  },
  {
   "cell_type": "code",
   "execution_count": 565,
   "metadata": {},
   "outputs": [
    {
     "data": {
      "text/plain": [
       "'mean_6_90852'"
      ]
     },
     "execution_count": 565,
     "metadata": {},
     "output_type": "execute_result"
    }
   ],
   "source": [
    "# file name\n",
    "model = 'mean_'\n",
    "perf  = str(round(roc_auc_score(y, oof.hospital_death), 6))[2:7]\n",
    "name  = model + str(len(features)) + '_' + perf\n",
    "name"
   ]
  },
  {
   "cell_type": "code",
   "execution_count": 566,
   "metadata": {},
   "outputs": [],
   "source": [
    "from sklearn.preprocessing import MinMaxScaler\n",
    "scaler = MinMaxScaler()\n",
    "scaler.fit(preds_test.reshape(-1,1))\n",
    "preds_test = scaler.transform(preds_test.reshape(-1,1)).reshape(-1)"
   ]
  },
  {
   "cell_type": "code",
   "execution_count": 567,
   "metadata": {},
   "outputs": [
    {
     "data": {
      "text/html": [
       "<div>\n",
       "<style scoped>\n",
       "    .dataframe tbody tr th:only-of-type {\n",
       "        vertical-align: middle;\n",
       "    }\n",
       "\n",
       "    .dataframe tbody tr th {\n",
       "        vertical-align: top;\n",
       "    }\n",
       "\n",
       "    .dataframe thead th {\n",
       "        text-align: right;\n",
       "    }\n",
       "</style>\n",
       "<table border=\"1\" class=\"dataframe\">\n",
       "  <thead>\n",
       "    <tr style=\"text-align: right;\">\n",
       "      <th></th>\n",
       "      <th>encounter_id</th>\n",
       "      <th>hospital_death</th>\n",
       "    </tr>\n",
       "  </thead>\n",
       "  <tbody>\n",
       "    <tr>\n",
       "      <th>0</th>\n",
       "      <td>2</td>\n",
       "      <td>0.015398</td>\n",
       "    </tr>\n",
       "    <tr>\n",
       "      <th>1</th>\n",
       "      <td>5</td>\n",
       "      <td>0.029296</td>\n",
       "    </tr>\n",
       "    <tr>\n",
       "      <th>2</th>\n",
       "      <td>7</td>\n",
       "      <td>0.013462</td>\n",
       "    </tr>\n",
       "    <tr>\n",
       "      <th>3</th>\n",
       "      <td>8</td>\n",
       "      <td>0.157339</td>\n",
       "    </tr>\n",
       "    <tr>\n",
       "      <th>4</th>\n",
       "      <td>10</td>\n",
       "      <td>0.604975</td>\n",
       "    </tr>\n",
       "  </tbody>\n",
       "</table>\n",
       "</div>"
      ],
      "text/plain": [
       "   encounter_id  hospital_death\n",
       "0             2        0.015398\n",
       "1             5        0.029296\n",
       "2             7        0.013462\n",
       "3             8        0.157339\n",
       "4            10        0.604975"
      ]
     },
     "execution_count": 567,
     "metadata": {},
     "output_type": "execute_result"
    }
   ],
   "source": [
    "# export OOF preds\n",
    "oof.to_csv('../oof_preds/' + str(name) + '.csv', index = False)\n",
    "\n",
    "\n",
    "# export test preds\n",
    "sub = pd.DataFrame({'encounter_id': test['encounter_id'], 'hospital_death': preds_test})\n",
    "sub.to_csv('../submissions/' + str(name) + '.csv', index = False)\n",
    "sub.head()"
   ]
  },
  {
   "cell_type": "code",
   "execution_count": null,
   "metadata": {},
   "outputs": [],
   "source": []
  },
  {
   "cell_type": "code",
   "execution_count": null,
   "metadata": {},
   "outputs": [],
   "source": []
  }
 ],
 "metadata": {
  "colab": {
   "authorship_tag": "ABX9TyNAnhsOcH0nbCD2UAF782dL",
   "name": "mean_ensemble.ipynb",
   "provenance": []
  },
  "kernelspec": {
   "display_name": "Python 3",
   "language": "python",
   "name": "python3"
  },
  "language_info": {
   "codemirror_mode": {
    "name": "ipython",
    "version": 3
   },
   "file_extension": ".py",
   "mimetype": "text/x-python",
   "name": "python",
   "nbconvert_exporter": "python",
   "pygments_lexer": "ipython3",
   "version": "3.8.1"
  }
 },
 "nbformat": 4,
 "nbformat_minor": 4
}
